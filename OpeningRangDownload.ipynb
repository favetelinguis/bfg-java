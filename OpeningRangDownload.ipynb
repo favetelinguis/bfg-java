{
 "cells": [
  {
   "cell_type": "code",
   "execution_count": 35,
   "id": "9b294246-d31e-498f-837c-14e9c1a4a6ba",
   "metadata": {},
   "outputs": [],
   "source": [
    "import json\n",
    "from pathlib import Path \n",
    "import requests\n",
    "import pandas as pd\n",
    "from datetime import date, timedelta\n",
    "import time"
   ]
  },
  {
   "cell_type": "code",
   "execution_count": 3,
   "id": "19af5d87-6b2e-4290-b0fd-a887553a7d23",
   "metadata": {},
   "outputs": [],
   "source": [
    "home = str(Path.home())\n",
    "with open(home + \"/bfg/demo/config.json\", encoding = 'utf-8') as f:\n",
    "    config = json.load(f)"
   ]
  },
  {
   "cell_type": "code",
   "execution_count": null,
   "id": "747b8b2b-9138-4225-afaa-1c4a5314a822",
   "metadata": {},
   "outputs": [],
   "source": [
    "payload = {\n",
    "    \"encryptedPassword\": False,\n",
    "    \"identifier\": config['connection_details']['username'],\n",
    "    \"password\": config['connection_details']['password'],\n",
    "}\n",
    "headers = {\n",
    "    \"Version\": \"2\",\n",
    "    \"X-IG-API-KEY\": config['connection_details']['api_key'],\n",
    "    \"Content-Type\": \"application/json; charset=UTF-8\",\n",
    "    \"Accept\": \"application/json; charset=UTF-8\",\n",
    "          }\n",
    "r = requests.post(config['connection_details']['base_url'] + \"session\", headers=headers, data=json.dumps(payload))\n",
    "xst=r.headers[\"x-security-token\"]\n",
    "cst=r.headers[\"cst\"]"
   ]
  },
  {
   "cell_type": "code",
   "execution_count": 38,
   "id": "70c9cf30-5e27-43d9-bc7f-7d39fb61b5cc",
   "metadata": {},
   "outputs": [],
   "source": [
    "def fetchData(epic, resolution, start):\n",
    "    resource = f\"prices/{epic}?resolution={resolution}&from={start}&to={start}\"\n",
    "    headers = {\n",
    "        \"X-SECURITY-TOKEN\": xst,\n",
    "        \"CST\": cst,\n",
    "        \"Version\": \"3\",\n",
    "        \"X-IG-API-KEY\": config['connection_details']['api_key'],\n",
    "        \"Content-Type\": \"application/json; charset=UTF-8\",\n",
    "        \"Accept\": \"application/json; charset=UTF-8\",\n",
    "              }\n",
    "    r = requests.get(config['connection_details']['base_url'] + resource, headers=headers,)\n",
    "    if r.status_code != 200:\n",
    "        print(r.text)\n",
    "    else:\n",
    "        return r.json()"
   ]
  },
  {
   "cell_type": "code",
   "execution_count": null,
   "id": "ea146b5e-5ee2-4273-8f4c-78c964c58c9e",
   "metadata": {},
   "outputs": [],
   "source": [
    "def makePandasRow(min1, min5):\n",
    "    price1 = cmin1['prices'][0]\n",
    "    price5 = min5['prices'][0]\n",
    "    return {\n",
    "        \"utc_time\": price1['snapshotTimeUTC'],\n",
    "        \"1min_bid_high\": price1['highPrice']['bid'],\n",
    "        \"1min_ask_high\": price1['highPrice']['ask'],\n",
    "        \"1min_bid_low\": price1['lowPrice']['bid'],\n",
    "        \"1min_ask_low\": price1['lowPrice']['ask'],\n",
    "        \"5min_bid_high\": price5['highPrice']['bid'],\n",
    "        \"5min_ask_high\": price5['highPrice']['ask'],\n",
    "        \"5min_bid_low\": price5['lowPrice']['bid'],\n",
    "        \"5min_ask_low\": price5['lowPrice']['ask'],\n",
    "    }"
   ]
  },
  {
   "cell_type": "markdown",
   "id": "5b14c2a3-5160-47df-a387-bd9d94759a0d",
   "metadata": {},
   "source": [
    "IG has 40days of 1min data and 360days of 5min data\n",
    "Rate limited to 30req/min and we do 2 requests each loop so need to sleep"
   ]
  },
  {
   "cell_type": "code",
   "execution_count": 42,
   "id": "00743bd8-0470-46b7-b002-7a46c8c9842c",
   "metadata": {},
   "outputs": [],
   "source": [
    "forty_days_from_today = date.today()-timedelta(days=40)\n",
    "for epic in config['epics']:\n",
    "    rows = []\n",
    "    non_trading_days = []    \n",
    "    year_dates = pd.bdate_range(start=forty_days_from_today, end=date.today(), holidays=epic['non_trading_days'])\n",
    "    for day in year_dates:\n",
    "        time.sleep(4.5)\n",
    "        min1 = fetchData(epic['epic'], \"MINUTE\", f\"{str(day.date())}T09:00:00\")\n",
    "        min5 = fetchData(epic['epic'], \"MINUTE_5\", f\"{str(day.date())}T09:00:00\")\n",
    "        row = makePandasRow(min1, min5)\n",
    "        rows.append(row)\n",
    "    df = pd.DataFrame(rows)\n",
    "    df.set_index('utc_time', inplace=True)\n",
    "    df.to_csv(f\"opening_ranges_2022_{epic['epic']}.csv\")"
   ]
  }
 ],
 "metadata": {
  "kernelspec": {
   "display_name": "Python 3 (ipykernel)",
   "language": "python",
   "name": "python3"
  },
  "language_info": {
   "codemirror_mode": {
    "name": "ipython",
    "version": 3
   },
   "file_extension": ".py",
   "mimetype": "text/x-python",
   "name": "python",
   "nbconvert_exporter": "python",
   "pygments_lexer": "ipython3",
   "version": "3.9.12"
  }
 },
 "nbformat": 4,
 "nbformat_minor": 5
}

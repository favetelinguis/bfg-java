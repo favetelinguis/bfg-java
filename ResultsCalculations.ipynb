{
 "cells": [
  {
   "cell_type": "code",
   "execution_count": 58,
   "id": "083ec567-c2c3-4024-a079-f42b7866741c",
   "metadata": {
    "pycharm": {
     "name": "#%%\n"
    }
   },
   "outputs": [],
   "source": [
    "import pandas as pd\n",
    "import os\n",
    "from pathlib import Path \n",
    "import math\n",
    "import pymongo\n",
    "from pymongo import MongoClient\n",
    "from datetime import datetime"
   ]
  },
  {
   "cell_type": "code",
   "execution_count": 59,
   "outputs": [],
   "source": [
    "def unpack(results):\n",
    "  rs = []\n",
    "  for r in results:\n",
    "    r['item']['result'] = r['result']\n",
    "    rs.append(r['item'])\n",
    "  return rs"
   ],
   "metadata": {
    "collapsed": false,
    "pycharm": {
     "name": "#%%\n"
    }
   }
  },
  {
   "cell_type": "code",
   "execution_count": 67,
   "outputs": [],
   "source": [
    "start = datetime.today().replace(hour=0, minute=0, second=0, microsecond=0)\n",
    "end = datetime.today().replace(hour=23, minute=59, second=59, microsecond=999999)\n",
    "client = MongoClient()\n",
    "db = client['bfg']\n",
    "trade_results = db.tradeResultEntity\n",
    "test = pd.DataFrame(unpack(list(trade_results.find({'item.entryTime': {'$gte': start, '$lt': end}}))))\n",
    "# test = pd.DataFrame(unpack(list(trade_results.find())))"
   ],
   "metadata": {
    "collapsed": false,
    "pycharm": {
     "name": "#%%\n"
    }
   }
  },
  {
   "cell_type": "code",
   "execution_count": 68,
   "outputs": [
    {
     "data": {
      "text/plain": "                  epic  size  wantedEntryLevel  actualEntryLevel  \\\n0     IX.D.DAX.IFMM.IP   1.0          13091.60          13091.60   \n1     IX.D.FTSE.IFE.IP   1.0           7269.70           7269.70   \n2     IX.D.DAX.IFMM.IP   1.0          13091.60          13091.60   \n3     IX.D.DAX.IFMM.IP   1.0          13091.60          13091.60   \n4     IX.D.DAX.IFMM.IP   1.0          13091.60          13091.60   \n..                 ...   ...               ...               ...   \n67  IX.D.NASDAQ.IFE.IP   1.0          11651.50          11651.50   \n68   IX.D.SPTRD.IFE.IP   5.0           3822.39           3822.39   \n69  IX.D.NASDAQ.IFE.IP   1.0          11653.50          11653.50   \n70  IX.D.NASDAQ.IFE.IP   1.0          11651.50          11651.50   \n71   IX.D.SPTRD.IFE.IP   5.0           3822.39           3822.39   \n\n                 entryTime                exitTime  wantedExitLevel  \\\n0  2022-06-29 07:01:23.980 2022-06-29 07:03:11.425     13069.858571   \n1  2022-06-29 07:02:07.085 2022-06-29 07:03:11.627      7278.734418   \n2  2022-06-29 07:08:48.186 2022-06-29 07:10:34.194     13063.075366   \n3  2022-06-29 07:12:12.060 2022-06-29 07:15:03.445     13061.373697   \n4  2022-06-29 07:22:00.919 2022-06-29 07:28:25.257     13055.551493   \n..                     ...                     ...              ...   \n67 2022-06-29 15:33:01.243 2022-06-29 15:35:36.139     11684.886800   \n68 2022-06-29 15:36:06.738 2022-06-29 15:41:00.413      3830.006456   \n69 2022-06-29 15:42:33.730 2022-06-29 15:47:00.211     11621.371667   \n70 2022-06-29 15:51:28.341 2022-06-29 15:56:00.330     11681.246463   \n71 2022-06-29 15:54:13.223 2022-06-29 15:59:00.194      3829.799485   \n\n    actualExitLevel direction  entryType       oneR  barsInTrade    result  \\\n0        13104.6449       BUY   BUY_HIGH  21.741429            1  0.600002   \n1         7278.7344      SELL  SELL_HIGH   9.034418            1 -0.999998   \n2        13108.7148       BUY   BUY_HIGH  28.524634            2  0.600001   \n3        13109.7358       BUY   BUY_HIGH  30.226303            3  0.600001   \n4        13113.2291       BUY   BUY_HIGH  36.048507            6  0.600000   \n..              ...       ...        ...        ...          ...       ...   \n67       11670.8868      SELL  SELL_HIGH  33.386800            2 -0.580673   \n68        3823.2400      SELL   SELL_LOW   7.616456            5 -0.111600   \n69       11654.0000       BUY   BUY_HIGH  32.128333            5  0.015563   \n70       11668.2000      SELL  SELL_HIGH  29.746463            5 -0.561411   \n71        3816.9900      SELL   SELL_LOW   7.409485            5  0.728796   \n\n         mae  \n0        NaN  \n1        NaN  \n2        NaN  \n3        NaN  \n4        NaN  \n..       ...  \n67  11669.80  \n68   3824.79  \n69  11638.60  \n70  11672.30  \n71   3824.04  \n\n[72 rows x 14 columns]",
      "text/html": "<div>\n<style scoped>\n    .dataframe tbody tr th:only-of-type {\n        vertical-align: middle;\n    }\n\n    .dataframe tbody tr th {\n        vertical-align: top;\n    }\n\n    .dataframe thead th {\n        text-align: right;\n    }\n</style>\n<table border=\"1\" class=\"dataframe\">\n  <thead>\n    <tr style=\"text-align: right;\">\n      <th></th>\n      <th>epic</th>\n      <th>size</th>\n      <th>wantedEntryLevel</th>\n      <th>actualEntryLevel</th>\n      <th>entryTime</th>\n      <th>exitTime</th>\n      <th>wantedExitLevel</th>\n      <th>actualExitLevel</th>\n      <th>direction</th>\n      <th>entryType</th>\n      <th>oneR</th>\n      <th>barsInTrade</th>\n      <th>result</th>\n      <th>mae</th>\n    </tr>\n  </thead>\n  <tbody>\n    <tr>\n      <th>0</th>\n      <td>IX.D.DAX.IFMM.IP</td>\n      <td>1.0</td>\n      <td>13091.60</td>\n      <td>13091.60</td>\n      <td>2022-06-29 07:01:23.980</td>\n      <td>2022-06-29 07:03:11.425</td>\n      <td>13069.858571</td>\n      <td>13104.6449</td>\n      <td>BUY</td>\n      <td>BUY_HIGH</td>\n      <td>21.741429</td>\n      <td>1</td>\n      <td>0.600002</td>\n      <td>NaN</td>\n    </tr>\n    <tr>\n      <th>1</th>\n      <td>IX.D.FTSE.IFE.IP</td>\n      <td>1.0</td>\n      <td>7269.70</td>\n      <td>7269.70</td>\n      <td>2022-06-29 07:02:07.085</td>\n      <td>2022-06-29 07:03:11.627</td>\n      <td>7278.734418</td>\n      <td>7278.7344</td>\n      <td>SELL</td>\n      <td>SELL_HIGH</td>\n      <td>9.034418</td>\n      <td>1</td>\n      <td>-0.999998</td>\n      <td>NaN</td>\n    </tr>\n    <tr>\n      <th>2</th>\n      <td>IX.D.DAX.IFMM.IP</td>\n      <td>1.0</td>\n      <td>13091.60</td>\n      <td>13091.60</td>\n      <td>2022-06-29 07:08:48.186</td>\n      <td>2022-06-29 07:10:34.194</td>\n      <td>13063.075366</td>\n      <td>13108.7148</td>\n      <td>BUY</td>\n      <td>BUY_HIGH</td>\n      <td>28.524634</td>\n      <td>2</td>\n      <td>0.600001</td>\n      <td>NaN</td>\n    </tr>\n    <tr>\n      <th>3</th>\n      <td>IX.D.DAX.IFMM.IP</td>\n      <td>1.0</td>\n      <td>13091.60</td>\n      <td>13091.60</td>\n      <td>2022-06-29 07:12:12.060</td>\n      <td>2022-06-29 07:15:03.445</td>\n      <td>13061.373697</td>\n      <td>13109.7358</td>\n      <td>BUY</td>\n      <td>BUY_HIGH</td>\n      <td>30.226303</td>\n      <td>3</td>\n      <td>0.600001</td>\n      <td>NaN</td>\n    </tr>\n    <tr>\n      <th>4</th>\n      <td>IX.D.DAX.IFMM.IP</td>\n      <td>1.0</td>\n      <td>13091.60</td>\n      <td>13091.60</td>\n      <td>2022-06-29 07:22:00.919</td>\n      <td>2022-06-29 07:28:25.257</td>\n      <td>13055.551493</td>\n      <td>13113.2291</td>\n      <td>BUY</td>\n      <td>BUY_HIGH</td>\n      <td>36.048507</td>\n      <td>6</td>\n      <td>0.600000</td>\n      <td>NaN</td>\n    </tr>\n    <tr>\n      <th>...</th>\n      <td>...</td>\n      <td>...</td>\n      <td>...</td>\n      <td>...</td>\n      <td>...</td>\n      <td>...</td>\n      <td>...</td>\n      <td>...</td>\n      <td>...</td>\n      <td>...</td>\n      <td>...</td>\n      <td>...</td>\n      <td>...</td>\n      <td>...</td>\n    </tr>\n    <tr>\n      <th>67</th>\n      <td>IX.D.NASDAQ.IFE.IP</td>\n      <td>1.0</td>\n      <td>11651.50</td>\n      <td>11651.50</td>\n      <td>2022-06-29 15:33:01.243</td>\n      <td>2022-06-29 15:35:36.139</td>\n      <td>11684.886800</td>\n      <td>11670.8868</td>\n      <td>SELL</td>\n      <td>SELL_HIGH</td>\n      <td>33.386800</td>\n      <td>2</td>\n      <td>-0.580673</td>\n      <td>11669.80</td>\n    </tr>\n    <tr>\n      <th>68</th>\n      <td>IX.D.SPTRD.IFE.IP</td>\n      <td>5.0</td>\n      <td>3822.39</td>\n      <td>3822.39</td>\n      <td>2022-06-29 15:36:06.738</td>\n      <td>2022-06-29 15:41:00.413</td>\n      <td>3830.006456</td>\n      <td>3823.2400</td>\n      <td>SELL</td>\n      <td>SELL_LOW</td>\n      <td>7.616456</td>\n      <td>5</td>\n      <td>-0.111600</td>\n      <td>3824.79</td>\n    </tr>\n    <tr>\n      <th>69</th>\n      <td>IX.D.NASDAQ.IFE.IP</td>\n      <td>1.0</td>\n      <td>11653.50</td>\n      <td>11653.50</td>\n      <td>2022-06-29 15:42:33.730</td>\n      <td>2022-06-29 15:47:00.211</td>\n      <td>11621.371667</td>\n      <td>11654.0000</td>\n      <td>BUY</td>\n      <td>BUY_HIGH</td>\n      <td>32.128333</td>\n      <td>5</td>\n      <td>0.015563</td>\n      <td>11638.60</td>\n    </tr>\n    <tr>\n      <th>70</th>\n      <td>IX.D.NASDAQ.IFE.IP</td>\n      <td>1.0</td>\n      <td>11651.50</td>\n      <td>11651.50</td>\n      <td>2022-06-29 15:51:28.341</td>\n      <td>2022-06-29 15:56:00.330</td>\n      <td>11681.246463</td>\n      <td>11668.2000</td>\n      <td>SELL</td>\n      <td>SELL_HIGH</td>\n      <td>29.746463</td>\n      <td>5</td>\n      <td>-0.561411</td>\n      <td>11672.30</td>\n    </tr>\n    <tr>\n      <th>71</th>\n      <td>IX.D.SPTRD.IFE.IP</td>\n      <td>5.0</td>\n      <td>3822.39</td>\n      <td>3822.39</td>\n      <td>2022-06-29 15:54:13.223</td>\n      <td>2022-06-29 15:59:00.194</td>\n      <td>3829.799485</td>\n      <td>3816.9900</td>\n      <td>SELL</td>\n      <td>SELL_LOW</td>\n      <td>7.409485</td>\n      <td>5</td>\n      <td>0.728796</td>\n      <td>3824.04</td>\n    </tr>\n  </tbody>\n</table>\n<p>72 rows × 14 columns</p>\n</div>"
     },
     "execution_count": 68,
     "metadata": {},
     "output_type": "execute_result"
    }
   ],
   "source": [
    "test\n",
    "# start"
   ],
   "metadata": {
    "collapsed": false,
    "pycharm": {
     "name": "#%%\n"
    }
   }
  },
  {
   "cell_type": "code",
   "execution_count": 69,
   "outputs": [
    {
     "data": {
      "text/plain": "<Figure size 432x288 with 1 Axes>",
      "image/png": "[encoded data removed]"
     },
     "metadata": {
      "needs_background": "light"
     },
     "output_type": "display_data"
    }
   ],
   "source": [
    "test.plot.scatter('barsInTrade','result');"
   ],
   "metadata": {
    "collapsed": false,
    "pycharm": {
     "name": "#%%\n"
    }
   }
  },
  {
   "cell_type": "code",
   "execution_count": 71,
   "outputs": [
    {
     "data": {
      "text/plain": "-5.312645844817073"
     },
     "execution_count": 71,
     "metadata": {},
     "output_type": "execute_result"
    }
   ],
   "source": [
    "test['result'].sum()"
   ],
   "metadata": {
    "collapsed": false,
    "pycharm": {
     "name": "#%%\n"
    }
   }
  },
  {
   "cell_type": "code",
   "execution_count": 12,
   "id": "0acdcd08-2f30-4496-a01f-cbbb64b8320c",
   "metadata": {
    "pycharm": {
     "name": "#%%\n"
    }
   },
   "outputs": [],
   "source": [
    "home = str(Path.home())\n",
    "filepaths = [f'{home}/bfg/demo/{f}' for f in os.listdir(home + '/bfg/demo') if f.endswith('.csv')]\n",
    "df = pd.concat(map(pd.read_csv, filepaths))\n",
    "# Caclulate how many pips +- each trade generated\n",
    "df['result_pips'] = df.apply(lambda x: x['exit_level'] - x['actual_entry_level'] if 'LONG' in x['reference'] else x['actual_entry_level'] - x['exit_level'], axis=1)\n",
    "# Caclulate the R multiple for the trade should be between -1 and +2 for my system\n",
    "df['r_result'] = df['result_pips'] / df['one_r']"
   ]
  },
  {
   "cell_type": "markdown",
   "id": "817a1219-855a-462c-96f4-a2170e8f1add",
   "metadata": {
    "pycharm": {
     "name": "#%% md\n"
    }
   },
   "source": [
    "Expectency and SQN"
   ]
  },
  {
   "cell_type": "code",
   "execution_count": 13,
   "id": "0ade1699-8835-4f5d-aea1-40de982f643e",
   "metadata": {
    "pycharm": {
     "name": "#%%\n"
    }
   },
   "outputs": [
    {
     "data": {
      "text/plain": [
       "<AxesSubplot:ylabel='Frequency'>"
      ]
     },
     "execution_count": 13,
     "metadata": {},
     "output_type": "execute_result"
    },
    {
     "data": {
      "image/png": "[encoded data removed]",
      "text/plain": [
       "<Figure size 432x288 with 1 Axes>"
      ]
     },
     "metadata": {
      "needs_background": "light"
     },
     "output_type": "display_data"
    }
   ],
   "source": [
    "df['r_result'].plot.hist()"
   ]
  },
  {
   "cell_type": "code",
   "execution_count": 14,
   "id": "687a7310-98c8-4ee4-8134-86b7e54082a6",
   "metadata": {
    "pycharm": {
     "name": "#%%\n"
    }
   },
   "outputs": [
    {
     "name": "stdout",
     "output_type": "stream",
     "text": [
      "Expectency: 0.2674433062522864\n",
      "Number trades: 19\n"
     ]
    }
   ],
   "source": [
    "expectency = df['r_result'].mean()\n",
    "print('Expectency: ' + str(expectency)) # How many R i will win or loose per trade\n",
    "print('Number trades: ' + str(len(df)))"
   ]
  },
  {
   "cell_type": "code",
   "execution_count": 15,
   "id": "03200f8f-25e6-460c-8b5b-c08c373d6404",
   "metadata": {
    "pycharm": {
     "name": "#%%\n"
    }
   },
   "outputs": [
    {
     "data": {
      "text/plain": [
       "0.765879333507505"
      ]
     },
     "execution_count": 15,
     "metadata": {},
     "output_type": "execute_result"
    }
   ],
   "source": [
    "std_r = df['r_result'].std()\n",
    "sqn = (expectency / std_r) * math.sqrt(len(df))\n",
    "sqn"
   ]
  },
  {
   "cell_type": "code",
   "execution_count": null,
   "id": "8ac03ca0-abb7-408a-9dcb-6d3fc44b642f",
   "metadata": {
    "pycharm": {
     "name": "#%%\n"
    }
   },
   "outputs": [],
   "source": []
  }
 ],
 "metadata": {
  "kernelspec": {
   "display_name": "Python 3 (ipykernel)",
   "language": "python",
   "name": "python3"
  },
  "language_info": {
   "codemirror_mode": {
    "name": "ipython",
    "version": 3
   },
   "file_extension": ".py",
   "mimetype": "text/x-python",
   "name": "python",
   "nbconvert_exporter": "python",
   "pygments_lexer": "ipython3",
   "version": "3.9.12"
  }
 },
 "nbformat": 4,
 "nbformat_minor": 5
}
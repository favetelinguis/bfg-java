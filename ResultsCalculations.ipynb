{
 "cells": [
  {
   "cell_type": "code",
   "execution_count": 3,
   "id": "083ec567-c2c3-4024-a079-f42b7866741c",
   "metadata": {
    "pycharm": {
     "name": "#%%\n"
    }
   },
   "outputs": [],
   "source": [
    "import pandas as pd\n",
    "import os\n",
    "from pathlib import Path \n",
    "import math\n",
    "import pymongo\n",
    "from pymongo import MongoClient"
   ]
  },
  {
   "cell_type": "code",
   "execution_count": 14,
   "outputs": [],
   "source": [
    "def unpack(results):\n",
    "  rs = []\n",
    "  for r in results:\n",
    "    r['item']['result'] = r['result']\n",
    "    rs.append(r['item'])\n",
    "  return rs"
   ],
   "metadata": {
    "collapsed": false,
    "pycharm": {
     "name": "#%%\n"
    }
   }
  },
  {
   "cell_type": "code",
   "execution_count": 15,
   "outputs": [],
   "source": [
    "client = MongoClient()\n",
    "db = client['bfg']\n",
    "trade_results = db.tradeResultEntity\n",
    "test = pd.DataFrame(unpack(list(trade_results.find())))"
   ],
   "metadata": {
    "collapsed": false,
    "pycharm": {
     "name": "#%%\n"
    }
   }
  },
  {
   "cell_type": "code",
   "execution_count": 19,
   "outputs": [
    {
     "data": {
      "text/plain": "    size  wantedEntryLevel  actualEntryLevel               entryTime  \\\n0    1.0         12052.200         12052.200 2022-06-28 13:58:39.745   \n1    1.0          1928.135          1928.135 2022-06-28 13:59:56.638   \n2    1.0         12052.200         12052.200 2022-06-28 14:02:24.332   \n3    5.0          3923.740          3923.740 2022-06-28 14:03:40.428   \n4    1.0          6118.800          6118.800 2022-06-28 14:07:39.317   \n5    1.0         12010.600         12010.600 2022-06-28 14:11:32.537   \n6    1.0          6118.800          6118.800 2022-06-28 14:23:49.352   \n7    5.0          3916.240          3916.240 2022-06-28 14:19:58.834   \n8    1.0         13284.800         13284.800 2022-06-28 14:21:11.353   \n9    1.0          6118.800          6118.800 2022-06-28 14:29:37.677   \n10   1.0          6116.800          6116.800 2022-06-28 14:40:03.250   \n11   1.0          7328.400          7328.400 2022-06-28 14:47:01.447   \n12   1.0          6103.300          6103.300 2022-06-28 14:48:15.657   \n13   1.0         13282.000         13282.000 2022-06-28 14:59:54.098   \n14   1.0          6116.800          6116.800 2022-06-28 15:01:07.614   \n15   1.0         13282.000         13282.000 2022-06-28 15:11:24.275   \n\n                  exitTime  wantedExitLevel  actualExitLevel direction  \\\n0  2022-06-28 14:00:12.429     12001.480089       12077.5600       BUY   \n1  2022-06-28 14:02:20.921      1931.455488        1926.4748      SELL   \n2  2022-06-28 14:05:24.006     12000.695498       12010.6955       BUY   \n3  2022-06-28 14:07:29.022      3912.951258        3913.9513       BUY   \n4  2022-06-28 14:11:18.382      6106.658763        6124.8706       BUY   \n5  2022-06-28 14:20:57.339     12067.221161       11982.2894      SELL   \n6  2022-06-28 14:27:08.218      6106.564916        6124.9175       BUY   \n7  2022-06-28 14:30:00.324      3905.657938        3910.0300       BUY   \n8  2022-06-28 14:30:54.567     13257.481013       13267.4810       BUY   \n9  2022-06-28 14:32:28.605      6106.249361        6106.2494       BUY   \n10 2022-06-28 14:46:36.679      6129.754718        6110.3226      SELL   \n11 2022-06-28 14:55:05.711      7316.935199        7334.1324       BUY   \n12 2022-06-28 14:56:25.356      6091.008318        6109.4458       BUY   \n13 2022-06-28 15:10:00.390     13308.129605       13275.8000      SELL   \n14 2022-06-28 15:12:00.271      6128.413799        6118.3000      SELL   \n15 2022-06-28 15:15:34.376     13305.581050       13270.2095      SELL   \n\n    entryType       oneR  barsInTrade    result  \n0    BUY_HIGH  50.719911            2  0.500001  \n1    SELL_LOW   3.320488            3  0.499987  \n2    BUY_HIGH  51.504502            3 -0.805842  \n3    BUY_HIGH  10.788742            4 -0.907307  \n4    BUY_HIGH  12.141237            4  0.499998  \n5    SELL_LOW  56.621161            9  0.500000  \n6    BUY_HIGH  12.235084            4  0.499997  \n7     BUY_LOW  10.582062           11 -0.586842  \n8    BUY_HIGH  27.318987            9 -0.633955  \n9    BUY_HIGH  12.550639            3 -0.999997  \n10  SELL_HIGH  12.954718            6  0.500003  \n11   BUY_HIGH  11.464801            8  0.500000  \n12    BUY_LOW  12.291682            8  0.499997  \n13  SELL_HIGH  26.129605           11  0.237279  \n14  SELL_HIGH  11.613799           11 -0.129157  \n15  SELL_HIGH  23.581050            4  0.499999  ",
      "text/html": "<div>\n<style scoped>\n    .dataframe tbody tr th:only-of-type {\n        vertical-align: middle;\n    }\n\n    .dataframe tbody tr th {\n        vertical-align: top;\n    }\n\n    .dataframe thead th {\n        text-align: right;\n    }\n</style>\n<table border=\"1\" class=\"dataframe\">\n  <thead>\n    <tr style=\"text-align: right;\">\n      <th></th>\n      <th>size</th>\n      <th>wantedEntryLevel</th>\n      <th>actualEntryLevel</th>\n      <th>entryTime</th>\n      <th>exitTime</th>\n      <th>wantedExitLevel</th>\n      <th>actualExitLevel</th>\n      <th>direction</th>\n      <th>entryType</th>\n      <th>oneR</th>\n      <th>barsInTrade</th>\n      <th>result</th>\n    </tr>\n  </thead>\n  <tbody>\n    <tr>\n      <th>0</th>\n      <td>1.0</td>\n      <td>12052.200</td>\n      <td>12052.200</td>\n      <td>2022-06-28 13:58:39.745</td>\n      <td>2022-06-28 14:00:12.429</td>\n      <td>12001.480089</td>\n      <td>12077.5600</td>\n      <td>BUY</td>\n      <td>BUY_HIGH</td>\n      <td>50.719911</td>\n      <td>2</td>\n      <td>0.500001</td>\n    </tr>\n    <tr>\n      <th>1</th>\n      <td>1.0</td>\n      <td>1928.135</td>\n      <td>1928.135</td>\n      <td>2022-06-28 13:59:56.638</td>\n      <td>2022-06-28 14:02:20.921</td>\n      <td>1931.455488</td>\n      <td>1926.4748</td>\n      <td>SELL</td>\n      <td>SELL_LOW</td>\n      <td>3.320488</td>\n      <td>3</td>\n      <td>0.499987</td>\n    </tr>\n    <tr>\n      <th>2</th>\n      <td>1.0</td>\n      <td>12052.200</td>\n      <td>12052.200</td>\n      <td>2022-06-28 14:02:24.332</td>\n      <td>2022-06-28 14:05:24.006</td>\n      <td>12000.695498</td>\n      <td>12010.6955</td>\n      <td>BUY</td>\n      <td>BUY_HIGH</td>\n      <td>51.504502</td>\n      <td>3</td>\n      <td>-0.805842</td>\n    </tr>\n    <tr>\n      <th>3</th>\n      <td>5.0</td>\n      <td>3923.740</td>\n      <td>3923.740</td>\n      <td>2022-06-28 14:03:40.428</td>\n      <td>2022-06-28 14:07:29.022</td>\n      <td>3912.951258</td>\n      <td>3913.9513</td>\n      <td>BUY</td>\n      <td>BUY_HIGH</td>\n      <td>10.788742</td>\n      <td>4</td>\n      <td>-0.907307</td>\n    </tr>\n    <tr>\n      <th>4</th>\n      <td>1.0</td>\n      <td>6118.800</td>\n      <td>6118.800</td>\n      <td>2022-06-28 14:07:39.317</td>\n      <td>2022-06-28 14:11:18.382</td>\n      <td>6106.658763</td>\n      <td>6124.8706</td>\n      <td>BUY</td>\n      <td>BUY_HIGH</td>\n      <td>12.141237</td>\n      <td>4</td>\n      <td>0.499998</td>\n    </tr>\n    <tr>\n      <th>5</th>\n      <td>1.0</td>\n      <td>12010.600</td>\n      <td>12010.600</td>\n      <td>2022-06-28 14:11:32.537</td>\n      <td>2022-06-28 14:20:57.339</td>\n      <td>12067.221161</td>\n      <td>11982.2894</td>\n      <td>SELL</td>\n      <td>SELL_LOW</td>\n      <td>56.621161</td>\n      <td>9</td>\n      <td>0.500000</td>\n    </tr>\n    <tr>\n      <th>6</th>\n      <td>1.0</td>\n      <td>6118.800</td>\n      <td>6118.800</td>\n      <td>2022-06-28 14:23:49.352</td>\n      <td>2022-06-28 14:27:08.218</td>\n      <td>6106.564916</td>\n      <td>6124.9175</td>\n      <td>BUY</td>\n      <td>BUY_HIGH</td>\n      <td>12.235084</td>\n      <td>4</td>\n      <td>0.499997</td>\n    </tr>\n    <tr>\n      <th>7</th>\n      <td>5.0</td>\n      <td>3916.240</td>\n      <td>3916.240</td>\n      <td>2022-06-28 14:19:58.834</td>\n      <td>2022-06-28 14:30:00.324</td>\n      <td>3905.657938</td>\n      <td>3910.0300</td>\n      <td>BUY</td>\n      <td>BUY_LOW</td>\n      <td>10.582062</td>\n      <td>11</td>\n      <td>-0.586842</td>\n    </tr>\n    <tr>\n      <th>8</th>\n      <td>1.0</td>\n      <td>13284.800</td>\n      <td>13284.800</td>\n      <td>2022-06-28 14:21:11.353</td>\n      <td>2022-06-28 14:30:54.567</td>\n      <td>13257.481013</td>\n      <td>13267.4810</td>\n      <td>BUY</td>\n      <td>BUY_HIGH</td>\n      <td>27.318987</td>\n      <td>9</td>\n      <td>-0.633955</td>\n    </tr>\n    <tr>\n      <th>9</th>\n      <td>1.0</td>\n      <td>6118.800</td>\n      <td>6118.800</td>\n      <td>2022-06-28 14:29:37.677</td>\n      <td>2022-06-28 14:32:28.605</td>\n      <td>6106.249361</td>\n      <td>6106.2494</td>\n      <td>BUY</td>\n      <td>BUY_HIGH</td>\n      <td>12.550639</td>\n      <td>3</td>\n      <td>-0.999997</td>\n    </tr>\n    <tr>\n      <th>10</th>\n      <td>1.0</td>\n      <td>6116.800</td>\n      <td>6116.800</td>\n      <td>2022-06-28 14:40:03.250</td>\n      <td>2022-06-28 14:46:36.679</td>\n      <td>6129.754718</td>\n      <td>6110.3226</td>\n      <td>SELL</td>\n      <td>SELL_HIGH</td>\n      <td>12.954718</td>\n      <td>6</td>\n      <td>0.500003</td>\n    </tr>\n    <tr>\n      <th>11</th>\n      <td>1.0</td>\n      <td>7328.400</td>\n      <td>7328.400</td>\n      <td>2022-06-28 14:47:01.447</td>\n      <td>2022-06-28 14:55:05.711</td>\n      <td>7316.935199</td>\n      <td>7334.1324</td>\n      <td>BUY</td>\n      <td>BUY_HIGH</td>\n      <td>11.464801</td>\n      <td>8</td>\n      <td>0.500000</td>\n    </tr>\n    <tr>\n      <th>12</th>\n      <td>1.0</td>\n      <td>6103.300</td>\n      <td>6103.300</td>\n      <td>2022-06-28 14:48:15.657</td>\n      <td>2022-06-28 14:56:25.356</td>\n      <td>6091.008318</td>\n      <td>6109.4458</td>\n      <td>BUY</td>\n      <td>BUY_LOW</td>\n      <td>12.291682</td>\n      <td>8</td>\n      <td>0.499997</td>\n    </tr>\n    <tr>\n      <th>13</th>\n      <td>1.0</td>\n      <td>13282.000</td>\n      <td>13282.000</td>\n      <td>2022-06-28 14:59:54.098</td>\n      <td>2022-06-28 15:10:00.390</td>\n      <td>13308.129605</td>\n      <td>13275.8000</td>\n      <td>SELL</td>\n      <td>SELL_HIGH</td>\n      <td>26.129605</td>\n      <td>11</td>\n      <td>0.237279</td>\n    </tr>\n    <tr>\n      <th>14</th>\n      <td>1.0</td>\n      <td>6116.800</td>\n      <td>6116.800</td>\n      <td>2022-06-28 15:01:07.614</td>\n      <td>2022-06-28 15:12:00.271</td>\n      <td>6128.413799</td>\n      <td>6118.3000</td>\n      <td>SELL</td>\n      <td>SELL_HIGH</td>\n      <td>11.613799</td>\n      <td>11</td>\n      <td>-0.129157</td>\n    </tr>\n    <tr>\n      <th>15</th>\n      <td>1.0</td>\n      <td>13282.000</td>\n      <td>13282.000</td>\n      <td>2022-06-28 15:11:24.275</td>\n      <td>2022-06-28 15:15:34.376</td>\n      <td>13305.581050</td>\n      <td>13270.2095</td>\n      <td>SELL</td>\n      <td>SELL_HIGH</td>\n      <td>23.581050</td>\n      <td>4</td>\n      <td>0.499999</td>\n    </tr>\n  </tbody>\n</table>\n</div>"
     },
     "execution_count": 19,
     "metadata": {},
     "output_type": "execute_result"
    }
   ],
   "source": [
    "test"
   ],
   "metadata": {
    "collapsed": false,
    "pycharm": {
     "name": "#%%\n"
    }
   }
  },
  {
   "cell_type": "code",
   "execution_count": 18,
   "outputs": [
    {
     "data": {
      "text/plain": "0.04213506599243243"
     },
     "execution_count": 18,
     "metadata": {},
     "output_type": "execute_result"
    }
   ],
   "source": [
    "test['result'].sum() / len(test)"
   ],
   "metadata": {
    "collapsed": false,
    "pycharm": {
     "name": "#%%\n"
    }
   }
  },
  {
   "cell_type": "code",
   "execution_count": 12,
   "id": "0acdcd08-2f30-4496-a01f-cbbb64b8320c",
   "metadata": {
    "pycharm": {
     "name": "#%%\n"
    }
   },
   "outputs": [],
   "source": [
    "home = str(Path.home())\n",
    "filepaths = [f'{home}/bfg/demo/{f}' for f in os.listdir(home + '/bfg/demo') if f.endswith('.csv')]\n",
    "df = pd.concat(map(pd.read_csv, filepaths))\n",
    "# Caclulate how many pips +- each trade generated\n",
    "df['result_pips'] = df.apply(lambda x: x['exit_level'] - x['actual_entry_level'] if 'LONG' in x['reference'] else x['actual_entry_level'] - x['exit_level'], axis=1)\n",
    "# Caclulate the R multiple for the trade should be between -1 and +2 for my system\n",
    "df['r_result'] = df['result_pips'] / df['one_r']"
   ]
  },
  {
   "cell_type": "markdown",
   "id": "817a1219-855a-462c-96f4-a2170e8f1add",
   "metadata": {
    "pycharm": {
     "name": "#%% md\n"
    }
   },
   "source": [
    "Expectency and SQN"
   ]
  },
  {
   "cell_type": "code",
   "execution_count": 13,
   "id": "0ade1699-8835-4f5d-aea1-40de982f643e",
   "metadata": {
    "pycharm": {
     "name": "#%%\n"
    }
   },
   "outputs": [
    {
     "data": {
      "text/plain": [
       "<AxesSubplot:ylabel='Frequency'>"
      ]
     },
     "execution_count": 13,
     "metadata": {},
     "output_type": "execute_result"
    },
    {
     "data": {
      "image/png": "[encoded data removed]",
      "text/plain": [
       "<Figure size 432x288 with 1 Axes>"
      ]
     },
     "metadata": {
      "needs_background": "light"
     },
     "output_type": "display_data"
    }
   ],
   "source": [
    "df['r_result'].plot.hist()"
   ]
  },
  {
   "cell_type": "code",
   "execution_count": 14,
   "id": "687a7310-98c8-4ee4-8134-86b7e54082a6",
   "metadata": {
    "pycharm": {
     "name": "#%%\n"
    }
   },
   "outputs": [
    {
     "name": "stdout",
     "output_type": "stream",
     "text": [
      "Expectency: 0.2674433062522864\n",
      "Number trades: 19\n"
     ]
    }
   ],
   "source": [
    "expectency = df['r_result'].mean()\n",
    "print('Expectency: ' + str(expectency)) # How many R i will win or loose per trade\n",
    "print('Number trades: ' + str(len(df)))"
   ]
  },
  {
   "cell_type": "code",
   "execution_count": 15,
   "id": "03200f8f-25e6-460c-8b5b-c08c373d6404",
   "metadata": {
    "pycharm": {
     "name": "#%%\n"
    }
   },
   "outputs": [
    {
     "data": {
      "text/plain": [
       "0.765879333507505"
      ]
     },
     "execution_count": 15,
     "metadata": {},
     "output_type": "execute_result"
    }
   ],
   "source": [
    "std_r = df['r_result'].std()\n",
    "sqn = (expectency / std_r) * math.sqrt(len(df))\n",
    "sqn"
   ]
  },
  {
   "cell_type": "code",
   "execution_count": null,
   "id": "8ac03ca0-abb7-408a-9dcb-6d3fc44b642f",
   "metadata": {
    "pycharm": {
     "name": "#%%\n"
    }
   },
   "outputs": [],
   "source": []
  }
 ],
 "metadata": {
  "kernelspec": {
   "display_name": "Python 3 (ipykernel)",
   "language": "python",
   "name": "python3"
  },
  "language_info": {
   "codemirror_mode": {
    "name": "ipython",
    "version": 3
   },
   "file_extension": ".py",
   "mimetype": "text/x-python",
   "name": "python",
   "nbconvert_exporter": "python",
   "pygments_lexer": "ipython3",
   "version": "3.9.12"
  }
 },
 "nbformat": 4,
 "nbformat_minor": 5
}
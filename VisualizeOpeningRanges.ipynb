{
 "cells": [
  {
   "cell_type": "code",
   "execution_count": 23,
   "id": "6c70de2a-4bc3-4bcb-b7dd-5acc89c756cc",
   "metadata": {},
   "outputs": [],
   "source": [
    "import pandas as pd"
   ]
  },
  {
   "cell_type": "code",
   "execution_count": 58,
   "id": "0c0ef227-d34c-461a-8517-bdf63cdbfdc9",
   "metadata": {},
   "outputs": [],
   "source": [
    "epic = \"IX.D.NASDAQ.IFE.IP\"\n",
    "df = pd.read_csv(f'opening_ranges_2022_{epic}.csv', index_col='utc_time', parse_dates=True)"
   ]
  },
  {
   "cell_type": "code",
   "execution_count": 59,
   "id": "618e83d1-027f-4419-977b-21ebea39379b",
   "metadata": {},
   "outputs": [
    {
     "data": {
      "text/html": [
       "<div>\n",
       "<style scoped>\n",
       "    .dataframe tbody tr th:only-of-type {\n",
       "        vertical-align: middle;\n",
       "    }\n",
       "\n",
       "    .dataframe tbody tr th {\n",
       "        vertical-align: top;\n",
       "    }\n",
       "\n",
       "    .dataframe thead th {\n",
       "        text-align: right;\n",
       "    }\n",
       "</style>\n",
       "<table border=\"1\" class=\"dataframe\">\n",
       "  <thead>\n",
       "    <tr style=\"text-align: right;\">\n",
       "      <th></th>\n",
       "      <th>1min_bid_high</th>\n",
       "      <th>1min_ask_high</th>\n",
       "      <th>1min_bid_low</th>\n",
       "      <th>1min_ask_low</th>\n",
       "      <th>5min_bid_high</th>\n",
       "      <th>5min_ask_high</th>\n",
       "      <th>5min_bid_low</th>\n",
       "      <th>5min_ask_low</th>\n",
       "    </tr>\n",
       "    <tr>\n",
       "      <th>utc_time</th>\n",
       "      <th></th>\n",
       "      <th></th>\n",
       "      <th></th>\n",
       "      <th></th>\n",
       "      <th></th>\n",
       "      <th></th>\n",
       "      <th></th>\n",
       "      <th></th>\n",
       "    </tr>\n",
       "  </thead>\n",
       "  <tbody>\n",
       "    <tr>\n",
       "      <th>2022-04-26 07:00:00</th>\n",
       "      <td>13521.5</td>\n",
       "      <td>13523.5</td>\n",
       "      <td>13499.1</td>\n",
       "      <td>13501.1</td>\n",
       "      <td>13521.5</td>\n",
       "      <td>13523.5</td>\n",
       "      <td>13491.4</td>\n",
       "      <td>13493.4</td>\n",
       "    </tr>\n",
       "    <tr>\n",
       "      <th>2022-04-27 07:00:00</th>\n",
       "      <td>13095.7</td>\n",
       "      <td>13097.7</td>\n",
       "      <td>13088.5</td>\n",
       "      <td>13090.5</td>\n",
       "      <td>13114.5</td>\n",
       "      <td>13116.5</td>\n",
       "      <td>13077.5</td>\n",
       "      <td>13079.5</td>\n",
       "    </tr>\n",
       "    <tr>\n",
       "      <th>2022-04-28 07:00:00</th>\n",
       "      <td>13244.8</td>\n",
       "      <td>13246.8</td>\n",
       "      <td>13231.9</td>\n",
       "      <td>13233.9</td>\n",
       "      <td>13244.8</td>\n",
       "      <td>13246.8</td>\n",
       "      <td>13218.8</td>\n",
       "      <td>13220.8</td>\n",
       "    </tr>\n",
       "    <tr>\n",
       "      <th>2022-04-29 07:00:00</th>\n",
       "      <td>13374.6</td>\n",
       "      <td>13376.6</td>\n",
       "      <td>13364.9</td>\n",
       "      <td>13366.9</td>\n",
       "      <td>13374.6</td>\n",
       "      <td>13376.6</td>\n",
       "      <td>13335.1</td>\n",
       "      <td>13337.1</td>\n",
       "    </tr>\n",
       "    <tr>\n",
       "      <th>2022-05-02 07:00:00</th>\n",
       "      <td>12965.6</td>\n",
       "      <td>12967.6</td>\n",
       "      <td>12953.4</td>\n",
       "      <td>12955.4</td>\n",
       "      <td>12977.4</td>\n",
       "      <td>12979.4</td>\n",
       "      <td>12940.6</td>\n",
       "      <td>12942.6</td>\n",
       "    </tr>\n",
       "  </tbody>\n",
       "</table>\n",
       "</div>"
      ],
      "text/plain": [
       "                     1min_bid_high  1min_ask_high  1min_bid_low  1min_ask_low  \\\n",
       "utc_time                                                                        \n",
       "2022-04-26 07:00:00        13521.5        13523.5       13499.1       13501.1   \n",
       "2022-04-27 07:00:00        13095.7        13097.7       13088.5       13090.5   \n",
       "2022-04-28 07:00:00        13244.8        13246.8       13231.9       13233.9   \n",
       "2022-04-29 07:00:00        13374.6        13376.6       13364.9       13366.9   \n",
       "2022-05-02 07:00:00        12965.6        12967.6       12953.4       12955.4   \n",
       "\n",
       "                     5min_bid_high  5min_ask_high  5min_bid_low  5min_ask_low  \n",
       "utc_time                                                                       \n",
       "2022-04-26 07:00:00        13521.5        13523.5       13491.4       13493.4  \n",
       "2022-04-27 07:00:00        13114.5        13116.5       13077.5       13079.5  \n",
       "2022-04-28 07:00:00        13244.8        13246.8       13218.8       13220.8  \n",
       "2022-04-29 07:00:00        13374.6        13376.6       13335.1       13337.1  \n",
       "2022-05-02 07:00:00        12977.4        12979.4       12940.6       12942.6  "
      ]
     },
     "execution_count": 59,
     "metadata": {},
     "output_type": "execute_result"
    }
   ],
   "source": [
    "df.head()"
   ]
  },
  {
   "cell_type": "markdown",
   "id": "cd79574f-85bd-4cd1-b99a-f7078aae2dbe",
   "metadata": {},
   "source": [
    "### Distribution 1 Minute Opening Range"
   ]
  },
  {
   "cell_type": "code",
   "execution_count": 60,
   "id": "3efded37-f57d-413e-8aca-996ccb139a09",
   "metadata": {},
   "outputs": [
    {
     "data": {
      "text/plain": [
       "<AxesSubplot:ylabel='Frequency'>"
      ]
     },
     "execution_count": 60,
     "metadata": {},
     "output_type": "execute_result"
    },
    {
     "data": {
      "image/png": "[encoded data removed]",
      "text/plain": [
       "<Figure size 432x288 with 1 Axes>"
      ]
     },
     "metadata": {
      "needs_background": "light"
     },
     "output_type": "display_data"
    }
   ],
   "source": [
    "min1 = df['1min_bid_high'] - df['1min_bid_low']\n",
    "min1.plot.hist()"
   ]
  },
  {
   "cell_type": "markdown",
   "id": "6cf088f1-8aa6-4c7d-b71e-5c87760d5a1b",
   "metadata": {},
   "source": [
    "### Distribution 5 Minute Opening Range"
   ]
  },
  {
   "cell_type": "code",
   "execution_count": 61,
   "id": "817af682-4d84-441d-a5d6-f9d19f1c54bc",
   "metadata": {},
   "outputs": [
    {
     "data": {
      "text/plain": [
       "<AxesSubplot:ylabel='Frequency'>"
      ]
     },
     "execution_count": 61,
     "metadata": {},
     "output_type": "execute_result"
    },
    {
     "data": {
      "image/png": "[encoded data removed]",
      "text/plain": [
       "<Figure size 432x288 with 1 Axes>"
      ]
     },
     "metadata": {
      "needs_background": "light"
     },
     "output_type": "display_data"
    }
   ],
   "source": [
    "min5 = df['5min_bid_high'] - df['5min_bid_low']\n",
    "min5.plot.hist()"
   ]
  },
  {
   "cell_type": "markdown",
   "id": "524cf1d5-7da5-4540-99a1-f513d3dba0b9",
   "metadata": {},
   "source": [
    "### Distribution Spread"
   ]
  },
  {
   "cell_type": "code",
   "execution_count": 62,
   "id": "b75b0b7a-4340-4d48-af79-5137fadbfb84",
   "metadata": {},
   "outputs": [
    {
     "data": {
      "text/plain": [
       "<AxesSubplot:ylabel='Frequency'>"
      ]
     },
     "execution_count": 62,
     "metadata": {},
     "output_type": "execute_result"
    },
    {
     "data": {
      "image/png": "[encoded data removed]",
      "text/plain": [
       "<Figure size 432x288 with 1 Axes>"
      ]
     },
     "metadata": {
      "needs_background": "light"
     },
     "output_type": "display_data"
    }
   ],
   "source": [
    "min5 = df['5min_ask_low'] - df['5min_bid_low']\n",
    "min5.plot.hist()"
   ]
  },
  {
   "cell_type": "markdown",
   "id": "3053e300-9ec3-44db-aec3-6523bcd73fb7",
   "metadata": {},
   "source": [
    "1/3 5min range inside 1min\n",
    "- How if my 5min opening range stop is outside reach of 1min range will be better is my theory "
   ]
  },
  {
   "cell_type": "code",
   "execution_count": 63,
   "id": "346e4acf-8960-4173-80a5-924efc12fd80",
   "metadata": {},
   "outputs": [],
   "source": [
    "df['5min1R'] = ((df['5min_bid_high'] - df['5min_bid_low']) -1) / 3"
   ]
  },
  {
   "cell_type": "code",
   "execution_count": 64,
   "id": "2e4a0292-b6fd-4c8f-b68b-3b3c12bb6310",
   "metadata": {},
   "outputs": [
    {
     "data": {
      "text/plain": [
       "True     25\n",
       "False     4\n",
       "Name: high_stop_lower, dtype: int64"
      ]
     },
     "execution_count": 64,
     "metadata": {},
     "output_type": "execute_result"
    }
   ],
   "source": [
    "df['high_stop_lower'] = (df['5min_bid_high'] - df['5min1R']) < df['1min_bid_high']\n",
    "df['high_stop_lower'].value_counts()"
   ]
  },
  {
   "cell_type": "code",
   "execution_count": 65,
   "id": "7ea26091-e4cb-49b5-a2dc-99b12ccae3a0",
   "metadata": {},
   "outputs": [
    {
     "data": {
      "text/plain": [
       "True     15\n",
       "False    14\n",
       "Name: low_stop_higher, dtype: int64"
      ]
     },
     "execution_count": 65,
     "metadata": {},
     "output_type": "execute_result"
    }
   ],
   "source": [
    "df['low_stop_higher'] = (df['5min_bid_low'] + df['5min1R']) > df['1min_bid_low']\n",
    "df['low_stop_higher'].value_counts()"
   ]
  },
  {
   "cell_type": "code",
   "execution_count": null,
   "id": "8fda2c14-3af3-4ba6-b971-67dbce223595",
   "metadata": {},
   "outputs": [],
   "source": []
  },
  {
   "cell_type": "code",
   "execution_count": null,
   "id": "76e50f2b-1044-4dfb-8523-e73488de38fb",
   "metadata": {},
   "outputs": [],
   "source": []
  }
 ],
 "metadata": {
  "kernelspec": {
   "display_name": "Python 3 (ipykernel)",
   "language": "python",
   "name": "python3"
  },
  "language_info": {
   "codemirror_mode": {
    "name": "ipython",
    "version": 3
   },
   "file_extension": ".py",
   "mimetype": "text/x-python",
   "name": "python",
   "nbconvert_exporter": "python",
   "pygments_lexer": "ipython3",
   "version": "3.9.12"
  }
 },
 "nbformat": 4,
 "nbformat_minor": 5
}
